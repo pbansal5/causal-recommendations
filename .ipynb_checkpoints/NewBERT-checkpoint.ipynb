{
 "cells": [
  {
   "cell_type": "code",
   "execution_count": 1,
   "id": "999cc8b9",
   "metadata": {
    "scrolled": true
   },
   "outputs": [
    {
     "ename": "ModuleNotFoundError",
     "evalue": "No module named 'ngame'",
     "output_type": "error",
     "traceback": [
      "\u001b[0;31m---------------------------------------------------------------------------\u001b[0m",
      "\u001b[0;31mModuleNotFoundError\u001b[0m                       Traceback (most recent call last)",
      "\u001b[0;32m<ipython-input-1-cf7901d85894>\u001b[0m in \u001b[0;36m<module>\u001b[0;34m\u001b[0m\n\u001b[1;32m     23\u001b[0m \u001b[0;32mimport\u001b[0m \u001b[0mxclib\u001b[0m\u001b[0;34m.\u001b[0m\u001b[0mdata\u001b[0m\u001b[0;34m.\u001b[0m\u001b[0mdata_utils\u001b[0m \u001b[0;32mas\u001b[0m \u001b[0mdata_utils\u001b[0m\u001b[0;34m\u001b[0m\u001b[0;34m\u001b[0m\u001b[0m\n\u001b[1;32m     24\u001b[0m \u001b[0;32mimport\u001b[0m \u001b[0mscipy\u001b[0m\u001b[0;34m.\u001b[0m\u001b[0msparse\u001b[0m \u001b[0;32mas\u001b[0m \u001b[0msp\u001b[0m\u001b[0;34m\u001b[0m\u001b[0;34m\u001b[0m\u001b[0m\n\u001b[0;32m---> 25\u001b[0;31m \u001b[0;32mfrom\u001b[0m \u001b[0mngame\u001b[0m\u001b[0;34m.\u001b[0m\u001b[0mnns\u001b[0m \u001b[0;32mimport\u001b[0m \u001b[0mexact_search\u001b[0m\u001b[0;34m\u001b[0m\u001b[0;34m\u001b[0m\u001b[0m\n\u001b[0m\u001b[1;32m     26\u001b[0m \u001b[0;31m# nltk.download('averaged_perceptron_tagger')\u001b[0m\u001b[0;34m\u001b[0m\u001b[0;34m\u001b[0m\u001b[0;34m\u001b[0m\u001b[0m\n\u001b[1;32m     27\u001b[0m \u001b[0;31m# nltk.download('wordnet')\u001b[0m\u001b[0;34m\u001b[0m\u001b[0;34m\u001b[0m\u001b[0;34m\u001b[0m\u001b[0m\n",
      "\u001b[0;31mModuleNotFoundError\u001b[0m: No module named 'ngame'"
     ]
    }
   ],
   "source": [
    "import numpy as np\n",
    "import pandas as pd\n",
    "from sklearn.model_selection import train_test_split\n",
    "from sklearn.linear_model import LogisticRegression\n",
    "from sklearn.model_selection import GridSearchCV\n",
    "from sklearn.model_selection import cross_val_score\n",
    "import torch\n",
    "import os\n",
    "import transformers as ppb\n",
    "from transformers import RobertaModel, AutoConfig\n",
    "import warnings\n",
    "from sentence_transformers import SentenceTransformer\n",
    "from torch.utils.tensorboard import SummaryWriter\n",
    "warnings.filterwarnings('ignore')\n",
    "from xclib.data.data_utils import read_sparse_file\n",
    "import copy\n",
    "from transformers import get_scheduler,AdamW\n",
    "from transformers import AutoTokenizer\n",
    "import nlpaug.augmenter.word as naw\n",
    "import nlpaug\n",
    "import nltk\n",
    "import xclib.evaluation.xc_metrics as xc_metrics\n",
    "import xclib.data.data_utils as data_utils\n",
    "import scipy.sparse as sp\n",
    "from ngame.nns import exact_search\n",
    "# nltk.download('averaged_perceptron_tagger')\n",
    "# nltk.download('wordnet')"
   ]
  },
  {
   "cell_type": "code",
   "execution_count": 2,
   "id": "cdd04cc9",
   "metadata": {},
   "outputs": [],
   "source": [
    "datadir='/ecstorage/bert-opt/datasets'\n",
    "# logdir = '/home/t-pbansal/logs'\n",
    "# datadir='/home/t-pbansal/datasets'\n",
    "datadir='%s/LF-AmazonTitles-131K'%datadir\n",
    "tst_X_Y = read_sparse_file('%s/tst_X_Y.txt'%datadir).\n"
   ]
  },
  {
   "cell_type": "code",
   "execution_count": 5,
   "id": "7a1a7241",
   "metadata": {},
   "outputs": [
    {
     "data": {
      "text/plain": [
       "array(<134835x1 sparse matrix of type '<class 'numpy.float32'>'\n",
       "\twith 1 stored elements in Compressed Sparse Row format>, dtype=object)"
      ]
     },
     "execution_count": 5,
     "metadata": {},
     "output_type": "execute_result"
    }
   ],
   "source": [
    "np.array(tst_X_Y[:,1])"
   ]
  },
  {
   "cell_type": "code",
   "execution_count": 2,
   "id": "9b1bc3d7",
   "metadata": {},
   "outputs": [],
   "source": [
    "class BertDataset(torch.utils.data.Dataset):\n",
    "\n",
    "    def __init__(self, datadir,mapping, device,split):\n",
    "        self.lbl_size = 131073\n",
    "        self.datadir = datadir\n",
    "        self.device=device\n",
    "        self.size = 294805 if split =='trn' else 134835\n",
    "        if split == 'trn':\n",
    "            self.point_text_files = [x.strip() for x in open('%s/raw/trn_X.title.txt'%self.datadir).readlines()]\n",
    "        else :\n",
    "            self.point_text_files = [x.strip() for x in open('%s/raw/tst_X.title.txt'%self.datadir).readlines()]\n",
    "        self.label_text_files = [x.strip() for x in open('%s/raw/Y.title.txt'%self.datadir).readlines()]\n",
    "        self.mat_mapping = mapping\n",
    "        self.mapping = mapping.nonzero()\n",
    "        self.tokenizer = AutoTokenizer.from_pretrained('bert-base-uncased', do_lower_case=True)\n",
    "        self.maxsize=32\n",
    "        self.aug = naw.SynonymAug(aug_src='wordnet',aug_max=5)\n",
    "        # aug = naw.WordEmbsAug(model_type='word2vec',model_path = './wiki-news-300d-1M.vec')\n",
    "        temp = np.fromfile('%s/tst_filter_labels.txt'%self.datadir, sep=' ').astype(int)\n",
    "        temp = temp.reshape(-1, 2).T\n",
    "        self.tst_filter_mat = sp.coo_matrix((np.ones(temp.shape[1]), (temp[0], temp[1])), tst_X_Y.shape).tocsr()\n",
    "\n",
    "    def __getitem__(self,index,augment=True):\n",
    "        point_data,label_data = self.convert_joint(self.point_text_files[self.mapping[0][index]],self.label_text_files[self.mapping[1][index]],augment=augment)\n",
    "#         point_data = self.convert(self.point_text_files[self.mapping[0][index]],augment=augment)\n",
    "#         label_data = self.convert(self.label_text_files[self.mapping[1][index]],augment=augment)\n",
    "        return (torch.Tensor(point_data['input_ids'][0]).to(device),\n",
    "               torch.Tensor(label_data['input_ids'][0]).to(device),\n",
    "               torch.Tensor(point_data['attention_mask'][0]).to(device),\n",
    "               torch.Tensor(label_data['attention_mask'][0]).to(device))\n",
    "    \n",
    "    def convert_joint(self,textp,textl,augment=True):\n",
    "        if augment : \n",
    "            textp=self.aug.augment(textp,n=1)\n",
    "            textl=self.aug.augment(textl,n=1)\n",
    "\n",
    "        combined = textp.split(' ')+textl.split(' ')\n",
    "        split_point = int(np.random.uniform(1,len(combined)))\n",
    "        textp = ' '.join(combined[:split_point])\n",
    "        textl = ' '.join(combined[split_point:])\n",
    "        \n",
    "        return (self.tokenizer(textp,add_special_tokens = True,\n",
    "                         truncation=True,return_tensors = 'np',\n",
    "                         return_attention_mask = True,padding = 'max_length',max_length=self.maxsize),\n",
    "                self.tokenizer(textl,add_special_tokens = True,\n",
    "                         truncation=True,return_tensors = 'np',\n",
    "                         return_attention_mask = True,padding = 'max_length',max_length=self.maxsize))\n",
    "    \n",
    "    def convert(self,text,augment=True):\n",
    "        if augment : \n",
    "            text=self.aug.augment(text,n=1)\n",
    "        return self.tokenizer(text,add_special_tokens = True,\n",
    "                         truncation=True,return_tensors = 'np',\n",
    "                         return_attention_mask = True,padding = 'max_length',max_length=self.maxsize)\n",
    "    \n",
    "    def get_embeds(self,model,batch_size,device):\n",
    "        labels = self.convert(self.label_text_files,augment=False)\n",
    "        points = self.convert(self.point_text_files,augment=False)\n",
    "        num_labels = labels['input_ids'].shape[0]\n",
    "        num_points = points['input_ids'].shape[0]\n",
    "        with torch.no_grad():\n",
    "            label_embeds = []\n",
    "            for i in range(0,num_labels,batch_size):\n",
    "                label_embeds.append(model.get_embed({'input_ids':torch.LongTensor(labels['input_ids'][i:i+batch_size]).to(device),\n",
    "                                          'attention_mask':torch.LongTensor(labels['attention_mask'][i:i+batch_size]).to(device)}).cpu())\n",
    "            label_embeds = torch.cat(label_embeds,dim=0)\n",
    "\n",
    "            point_embeds = []\n",
    "            for i in range(0,num_points,batch_size):\n",
    "                point_embeds.append(model.get_embed({'input_ids':torch.LongTensor(points['input_ids'][i:i+batch_size]).to(device),\n",
    "                                          'attention_mask':torch.LongTensor(points['attention_mask'][i:i+batch_size]).to(device)}).cpu())\n",
    "            point_embeds = torch.cat(point_embeds,dim=0)\n",
    "        return point_embeds,label_embeds\n",
    "\n",
    "    def __len__(self):\n",
    "        return len(self.mapping[0])\n",
    "\n",
    "def collate_fn(batch):\n",
    "    point_ids,label_ids,point_masks,label_masks = zip(*batch)\n",
    "    return {'input_ids':torch.stack(point_ids,dim=0).long(),'attention_mask':torch.stack(point_masks,dim=0).long()},{'input_ids':torch.stack(label_ids,dim=0).long(),'attention_mask':torch.stack(label_masks,dim=0).long()}\n",
    "\n",
    "\n",
    "class PrecEvaluator():\n",
    "    def __init__(self, dataset, device,batch_size):\n",
    "        self.K = 5\n",
    "        self.metric = \"P\"\n",
    "        self.dataset = dataset\n",
    "        self.device = device\n",
    "        self.batch_size = batch_size\n",
    "        self.filter_mat = dataset.tst_filter_mat\n",
    "        self.best_score = -9999999\n",
    "\n",
    "    def __call__(self,model):\n",
    "        xembs,yembs = self.dataset.get_embeds(model,self.batch_size,self.device)\n",
    "        torch.cuda.empty_cache()\n",
    "        es = exact_search({'data': yembs.cpu().numpy(), 'query': xembs.cpu().numpy(), 'K': 100, 'device': self.device})\n",
    "        score_mat = es.getnns_gpu()\n",
    "        if self.filter_mat is not None:\n",
    "            self._filter(score_mat)\n",
    "        res = self.printacc(score_mat, X_Y=self.dataset.mat_mapping, K=self.K)\n",
    "        recall = xc_metrics.recall(score_mat, self.dataset.mat_mapping, k=100)*100\n",
    "        print(f'Recall@100: {\"%.2f\"%recall[99]}')        \n",
    "        score = res[str(self.K)][self.metric]\n",
    "        return score\n",
    "    \n",
    "    def _filter(self,score_mat):\n",
    "        temp = self.filter_mat.tocoo()\n",
    "        score_mat[temp.row, temp.col] = 0\n",
    "        del temp\n",
    "        score_mat = score_mat.tocsr()\n",
    "        score_mat.eliminate_zeros()\n",
    "        return score_mat\n",
    "\n",
    "            \n",
    "    def printacc(self,score_mat, K = 5, X_Y = None, disp = True):\n",
    "        if X_Y is None: X_Y = tst_X_Y\n",
    "\n",
    "        acc = xc_metrics.Metrics(X_Y.tocsr().astype(np.bool), None)\n",
    "        metrics = np.array(acc.eval(score_mat, K))*100\n",
    "        df = pd.DataFrame(metrics)\n",
    "\n",
    "        df.index = ['P', 'nDCG']\n",
    "        \n",
    "        df.columns = [str(i+1) for i in range(K)]\n",
    "        if disp: display(df.round(2))\n",
    "        return df"
   ]
  },
  {
   "cell_type": "code",
   "execution_count": 3,
   "id": "db174274",
   "metadata": {},
   "outputs": [],
   "source": [
    "class BERTModel(torch.nn.Module):\n",
    "    def __init__(self,gamma):\n",
    "        super().__init__()\n",
    "        self.encoder = SentenceTransformer('msmarco-distilbert-base-v3')\n",
    "        self.rep_dim = self.encoder.get_sentence_embedding_dimension()\n",
    "        self.hidden_dim = 1024\n",
    "        self.target_encoder = copy.deepcopy(self.encoder).requires_grad_(False)\n",
    "        self.predictor = torch.nn.Sequential(torch.nn.Linear(self.rep_dim,self.hidden_dim),\n",
    "                                             torch.nn.ReLU(),torch.nn.Linear(self.hidden_dim,self.rep_dim))\n",
    "        self.gamma = gamma\n",
    "        \n",
    "    def forward(self,x,y):\n",
    "        flip = np.random.binomial(1,0.5)\n",
    "        if (flip == 0):\n",
    "            x_embeds = torch.nn.functional.normalize(self.predictor(self.encoder(x)['sentence_embedding']),dim=-1)\n",
    "            y_embeds = torch.nn.functional.normalize(self.target_encoder(y)['sentence_embedding'],dim=-1).clone().detach()\n",
    "        else:\n",
    "            y_embeds = torch.nn.functional.normalize(self.predictor(self.encoder(y)['sentence_embedding']),dim=-1)\n",
    "            x_embeds = torch.nn.functional.normalize(self.target_encoder(x)['sentence_embedding'],dim=-1).clone().detach()\n",
    "        scores = x_embeds@y_embeds.T\n",
    "        positives = torch.diag(scores).sum()\n",
    "        negatives = scores.sum()-positives\n",
    "        positives /= scores.shape[0]\n",
    "        negatives /= ((scores.shape[0]-1)*(scores.shape[0]))\n",
    "        self.update_target()\n",
    "        return positives,negatives\n",
    "    \n",
    "    def get_embed(self,x):\n",
    "        return torch.nn.functional.normalize(self.encoder(x)['sentence_embedding'],dim=-1)\n",
    "        \n",
    "    \n",
    "    def update_target(self):\n",
    "        target_dict = self.target_encoder.state_dict()\n",
    "        online_dict = self.encoder.state_dict()\n",
    "        for key in online_dict.keys():\n",
    "            target_dict[key] = target_dict[key]*self.gamma + online_dict[key]*(1-self.gamma)\n",
    "        self.target_encoder.load_state_dict(target_dict)"
   ]
  },
  {
   "cell_type": "code",
   "execution_count": 4,
   "id": "e58c7c4f",
   "metadata": {},
   "outputs": [],
   "source": [
    "expname = 'WordNetAugCut'\n",
    "datadir='/home/t-pbansal/datasets/LF-AmazonTitles-131K'\n",
    "trn_X_Y = read_sparse_file('%s/trn_X_Y.txt'%datadir)\n",
    "tst_X_Y = read_sparse_file('%s/tst_X_Y.txt'%datadir)\n",
    "device = torch.device('cuda:0')\n",
    "batch_size = 1024\n",
    "max_epoch = 500\n",
    "gamma = 0.995\n",
    "iteration = 0\n",
    "\n",
    "model = BERTModel(gamma = gamma).to(device)\n",
    "results_dir = '/home/t-pbansal/logs/tensorboard/%s_%fgamma_%dbs'%(expname,gamma,batch_size)\n",
    "writer = SummaryWriter(log_dir=results_dir)\n",
    "\n",
    "\n",
    "train_dataloader = torch.utils.data.DataLoader(BertDataset(datadir=datadir,mapping=trn_X_Y,split='trn',device=device),batch_size=batch_size,drop_last=True,shuffle=True,collate_fn=collate_fn)\n",
    "test_dataloader = torch.utils.data.DataLoader(BertDataset(datadir=datadir,mapping=tst_X_Y,split='tst',device=device),batch_size=batch_size,drop_last=True,shuffle=True,collate_fn=collate_fn)\n",
    "\n",
    "optimizer = AdamW(model.parameters(), lr=1e-4,weight_decay=1e-6)\n",
    "num_training_steps = max_epoch * len(train_dataloader)\n",
    "lr_scheduler = get_scheduler(\n",
    "    \"linear\",\n",
    "    optimizer=optimizer,\n",
    "    num_warmup_steps=1000,\n",
    "    num_training_steps=num_training_steps\n",
    ")\n",
    "\n",
    "evaluator = PrecEvaluator(test_dataloader.dataset,device,100)\n",
    "best_score = float('inf')\n"
   ]
  },
  {
   "cell_type": "code",
   "execution_count": null,
   "id": "f11b9290",
   "metadata": {
    "scrolled": false
   },
   "outputs": [
    {
     "name": "stdout",
     "output_type": "stream",
     "text": [
      "starting epoch 0 at iteration 0\n"
     ]
    },
    {
     "data": {
      "application/vnd.jupyter.widget-view+json": {
       "model_id": "9314456e94d04dac9d3e79d71fc4c4d9",
       "version_major": 2,
       "version_minor": 0
      },
      "text/plain": [
       "  0%|          | 0/264 [00:00<?, ?it/s]"
      ]
     },
     "metadata": {},
     "output_type": "display_data"
    },
    {
     "name": "stdout",
     "output_type": "stream",
     "text": [
      "Total time, time per point : 10.60s, 0.0786 ms/pt\n"
     ]
    },
    {
     "data": {
      "text/html": [
       "<div>\n",
       "<style scoped>\n",
       "    .dataframe tbody tr th:only-of-type {\n",
       "        vertical-align: middle;\n",
       "    }\n",
       "\n",
       "    .dataframe tbody tr th {\n",
       "        vertical-align: top;\n",
       "    }\n",
       "\n",
       "    .dataframe thead th {\n",
       "        text-align: right;\n",
       "    }\n",
       "</style>\n",
       "<table border=\"1\" class=\"dataframe\">\n",
       "  <thead>\n",
       "    <tr style=\"text-align: right;\">\n",
       "      <th></th>\n",
       "      <th>1</th>\n",
       "      <th>2</th>\n",
       "      <th>3</th>\n",
       "      <th>4</th>\n",
       "      <th>5</th>\n",
       "    </tr>\n",
       "  </thead>\n",
       "  <tbody>\n",
       "    <tr>\n",
       "      <th>P</th>\n",
       "      <td>7.39</td>\n",
       "      <td>5.48</td>\n",
       "      <td>4.36</td>\n",
       "      <td>3.58</td>\n",
       "      <td>3.01</td>\n",
       "    </tr>\n",
       "    <tr>\n",
       "      <th>nDCG</th>\n",
       "      <td>7.39</td>\n",
       "      <td>6.78</td>\n",
       "      <td>6.73</td>\n",
       "      <td>6.85</td>\n",
       "      <td>6.96</td>\n",
       "    </tr>\n",
       "  </tbody>\n",
       "</table>\n",
       "</div>"
      ],
      "text/plain": [
       "         1     2     3     4     5\n",
       "P     7.39  5.48  4.36  3.58  3.01\n",
       "nDCG  7.39  6.78  6.73  6.85  6.96"
      ]
     },
     "metadata": {},
     "output_type": "display_data"
    },
    {
     "name": "stdout",
     "output_type": "stream",
     "text": [
      "Recall@100: 12.45\n",
      "saved checkpoint for epoch 0\n",
      "starting epoch 1 at iteration 659\n"
     ]
    },
    {
     "data": {
      "application/vnd.jupyter.widget-view+json": {
       "model_id": "a312394d020d4f93bc9443291259b3a7",
       "version_major": 2,
       "version_minor": 0
      },
      "text/plain": [
       "  0%|          | 0/264 [00:00<?, ?it/s]"
      ]
     },
     "metadata": {},
     "output_type": "display_data"
    },
    {
     "name": "stdout",
     "output_type": "stream",
     "text": [
      "Total time, time per point : 10.48s, 0.0778 ms/pt\n"
     ]
    },
    {
     "data": {
      "text/html": [
       "<div>\n",
       "<style scoped>\n",
       "    .dataframe tbody tr th:only-of-type {\n",
       "        vertical-align: middle;\n",
       "    }\n",
       "\n",
       "    .dataframe tbody tr th {\n",
       "        vertical-align: top;\n",
       "    }\n",
       "\n",
       "    .dataframe thead th {\n",
       "        text-align: right;\n",
       "    }\n",
       "</style>\n",
       "<table border=\"1\" class=\"dataframe\">\n",
       "  <thead>\n",
       "    <tr style=\"text-align: right;\">\n",
       "      <th></th>\n",
       "      <th>1</th>\n",
       "      <th>2</th>\n",
       "      <th>3</th>\n",
       "      <th>4</th>\n",
       "      <th>5</th>\n",
       "    </tr>\n",
       "  </thead>\n",
       "  <tbody>\n",
       "    <tr>\n",
       "      <th>P</th>\n",
       "      <td>5.71</td>\n",
       "      <td>4.46</td>\n",
       "      <td>3.42</td>\n",
       "      <td>2.78</td>\n",
       "      <td>2.42</td>\n",
       "    </tr>\n",
       "    <tr>\n",
       "      <th>nDCG</th>\n",
       "      <td>5.71</td>\n",
       "      <td>5.43</td>\n",
       "      <td>5.29</td>\n",
       "      <td>5.36</td>\n",
       "      <td>5.52</td>\n",
       "    </tr>\n",
       "  </tbody>\n",
       "</table>\n",
       "</div>"
      ],
      "text/plain": [
       "         1     2     3     4     5\n",
       "P     5.71  4.46  3.42  2.78  2.42\n",
       "nDCG  5.71  5.43  5.29  5.36  5.52"
      ]
     },
     "metadata": {},
     "output_type": "display_data"
    },
    {
     "name": "stdout",
     "output_type": "stream",
     "text": [
      "Recall@100: 10.54\n",
      "saved checkpoint for epoch 1\n",
      "starting epoch 2 at iteration 1318\n"
     ]
    },
    {
     "data": {
      "application/vnd.jupyter.widget-view+json": {
       "model_id": "5196ff3f70644ed5b9c11f68fa71f321",
       "version_major": 2,
       "version_minor": 0
      },
      "text/plain": [
       "  0%|          | 0/264 [00:00<?, ?it/s]"
      ]
     },
     "metadata": {},
     "output_type": "display_data"
    },
    {
     "name": "stdout",
     "output_type": "stream",
     "text": [
      "Total time, time per point : 10.37s, 0.0769 ms/pt\n"
     ]
    },
    {
     "data": {
      "text/html": [
       "<div>\n",
       "<style scoped>\n",
       "    .dataframe tbody tr th:only-of-type {\n",
       "        vertical-align: middle;\n",
       "    }\n",
       "\n",
       "    .dataframe tbody tr th {\n",
       "        vertical-align: top;\n",
       "    }\n",
       "\n",
       "    .dataframe thead th {\n",
       "        text-align: right;\n",
       "    }\n",
       "</style>\n",
       "<table border=\"1\" class=\"dataframe\">\n",
       "  <thead>\n",
       "    <tr style=\"text-align: right;\">\n",
       "      <th></th>\n",
       "      <th>1</th>\n",
       "      <th>2</th>\n",
       "      <th>3</th>\n",
       "      <th>4</th>\n",
       "      <th>5</th>\n",
       "    </tr>\n",
       "  </thead>\n",
       "  <tbody>\n",
       "    <tr>\n",
       "      <th>P</th>\n",
       "      <td>5.14</td>\n",
       "      <td>4.01</td>\n",
       "      <td>3.30</td>\n",
       "      <td>2.71</td>\n",
       "      <td>2.33</td>\n",
       "    </tr>\n",
       "    <tr>\n",
       "      <th>nDCG</th>\n",
       "      <td>5.14</td>\n",
       "      <td>4.82</td>\n",
       "      <td>4.91</td>\n",
       "      <td>5.01</td>\n",
       "      <td>5.14</td>\n",
       "    </tr>\n",
       "  </tbody>\n",
       "</table>\n",
       "</div>"
      ],
      "text/plain": [
       "         1     2     3     4     5\n",
       "P     5.14  4.01  3.30  2.71  2.33\n",
       "nDCG  5.14  4.82  4.91  5.01  5.14"
      ]
     },
     "metadata": {},
     "output_type": "display_data"
    },
    {
     "name": "stdout",
     "output_type": "stream",
     "text": [
      "Recall@100: 10.65\n",
      "saved checkpoint for epoch 2\n",
      "starting epoch 3 at iteration 1977\n"
     ]
    },
    {
     "data": {
      "application/vnd.jupyter.widget-view+json": {
       "model_id": "b1f65f52957c4b0bace38b7e448c6641",
       "version_major": 2,
       "version_minor": 0
      },
      "text/plain": [
       "  0%|          | 0/264 [00:00<?, ?it/s]"
      ]
     },
     "metadata": {},
     "output_type": "display_data"
    },
    {
     "name": "stdout",
     "output_type": "stream",
     "text": [
      "Total time, time per point : 10.18s, 0.0755 ms/pt\n"
     ]
    },
    {
     "data": {
      "text/html": [
       "<div>\n",
       "<style scoped>\n",
       "    .dataframe tbody tr th:only-of-type {\n",
       "        vertical-align: middle;\n",
       "    }\n",
       "\n",
       "    .dataframe tbody tr th {\n",
       "        vertical-align: top;\n",
       "    }\n",
       "\n",
       "    .dataframe thead th {\n",
       "        text-align: right;\n",
       "    }\n",
       "</style>\n",
       "<table border=\"1\" class=\"dataframe\">\n",
       "  <thead>\n",
       "    <tr style=\"text-align: right;\">\n",
       "      <th></th>\n",
       "      <th>1</th>\n",
       "      <th>2</th>\n",
       "      <th>3</th>\n",
       "      <th>4</th>\n",
       "      <th>5</th>\n",
       "    </tr>\n",
       "  </thead>\n",
       "  <tbody>\n",
       "    <tr>\n",
       "      <th>P</th>\n",
       "      <td>4.93</td>\n",
       "      <td>3.89</td>\n",
       "      <td>3.20</td>\n",
       "      <td>2.68</td>\n",
       "      <td>2.33</td>\n",
       "    </tr>\n",
       "    <tr>\n",
       "      <th>nDCG</th>\n",
       "      <td>4.93</td>\n",
       "      <td>4.64</td>\n",
       "      <td>4.69</td>\n",
       "      <td>4.83</td>\n",
       "      <td>4.99</td>\n",
       "    </tr>\n",
       "  </tbody>\n",
       "</table>\n",
       "</div>"
      ],
      "text/plain": [
       "         1     2     3     4     5\n",
       "P     4.93  3.89  3.20  2.68  2.33\n",
       "nDCG  4.93  4.64  4.69  4.83  4.99"
      ]
     },
     "metadata": {},
     "output_type": "display_data"
    },
    {
     "name": "stdout",
     "output_type": "stream",
     "text": [
      "Recall@100: 12.07\n",
      "starting epoch 4 at iteration 2636\n"
     ]
    },
    {
     "data": {
      "application/vnd.jupyter.widget-view+json": {
       "model_id": "2d53717a44f0442680f1415f584a3e30",
       "version_major": 2,
       "version_minor": 0
      },
      "text/plain": [
       "  0%|          | 0/264 [00:00<?, ?it/s]"
      ]
     },
     "metadata": {},
     "output_type": "display_data"
    },
    {
     "name": "stdout",
     "output_type": "stream",
     "text": [
      "Total time, time per point : 10.11s, 0.0750 ms/pt\n"
     ]
    },
    {
     "data": {
      "text/html": [
       "<div>\n",
       "<style scoped>\n",
       "    .dataframe tbody tr th:only-of-type {\n",
       "        vertical-align: middle;\n",
       "    }\n",
       "\n",
       "    .dataframe tbody tr th {\n",
       "        vertical-align: top;\n",
       "    }\n",
       "\n",
       "    .dataframe thead th {\n",
       "        text-align: right;\n",
       "    }\n",
       "</style>\n",
       "<table border=\"1\" class=\"dataframe\">\n",
       "  <thead>\n",
       "    <tr style=\"text-align: right;\">\n",
       "      <th></th>\n",
       "      <th>1</th>\n",
       "      <th>2</th>\n",
       "      <th>3</th>\n",
       "      <th>4</th>\n",
       "      <th>5</th>\n",
       "    </tr>\n",
       "  </thead>\n",
       "  <tbody>\n",
       "    <tr>\n",
       "      <th>P</th>\n",
       "      <td>5.57</td>\n",
       "      <td>4.40</td>\n",
       "      <td>3.61</td>\n",
       "      <td>3.04</td>\n",
       "      <td>2.66</td>\n",
       "    </tr>\n",
       "    <tr>\n",
       "      <th>nDCG</th>\n",
       "      <td>5.57</td>\n",
       "      <td>5.26</td>\n",
       "      <td>5.31</td>\n",
       "      <td>5.48</td>\n",
       "      <td>5.67</td>\n",
       "    </tr>\n",
       "  </tbody>\n",
       "</table>\n",
       "</div>"
      ],
      "text/plain": [
       "         1     2     3     4     5\n",
       "P     5.57  4.40  3.61  3.04  2.66\n",
       "nDCG  5.57  5.26  5.31  5.48  5.67"
      ]
     },
     "metadata": {},
     "output_type": "display_data"
    },
    {
     "name": "stdout",
     "output_type": "stream",
     "text": [
      "Recall@100: 14.33\n",
      "starting epoch 5 at iteration 3295\n"
     ]
    },
    {
     "data": {
      "application/vnd.jupyter.widget-view+json": {
       "model_id": "1b70c8a8b7bb408aafbe783da671280c",
       "version_major": 2,
       "version_minor": 0
      },
      "text/plain": [
       "  0%|          | 0/264 [00:00<?, ?it/s]"
      ]
     },
     "metadata": {},
     "output_type": "display_data"
    },
    {
     "name": "stdout",
     "output_type": "stream",
     "text": [
      "Total time, time per point : 10.02s, 0.0743 ms/pt\n"
     ]
    },
    {
     "data": {
      "text/html": [
       "<div>\n",
       "<style scoped>\n",
       "    .dataframe tbody tr th:only-of-type {\n",
       "        vertical-align: middle;\n",
       "    }\n",
       "\n",
       "    .dataframe tbody tr th {\n",
       "        vertical-align: top;\n",
       "    }\n",
       "\n",
       "    .dataframe thead th {\n",
       "        text-align: right;\n",
       "    }\n",
       "</style>\n",
       "<table border=\"1\" class=\"dataframe\">\n",
       "  <thead>\n",
       "    <tr style=\"text-align: right;\">\n",
       "      <th></th>\n",
       "      <th>1</th>\n",
       "      <th>2</th>\n",
       "      <th>3</th>\n",
       "      <th>4</th>\n",
       "      <th>5</th>\n",
       "    </tr>\n",
       "  </thead>\n",
       "  <tbody>\n",
       "    <tr>\n",
       "      <th>P</th>\n",
       "      <td>6.5</td>\n",
       "      <td>5.19</td>\n",
       "      <td>4.23</td>\n",
       "      <td>3.59</td>\n",
       "      <td>3.15</td>\n",
       "    </tr>\n",
       "    <tr>\n",
       "      <th>nDCG</th>\n",
       "      <td>6.5</td>\n",
       "      <td>6.21</td>\n",
       "      <td>6.25</td>\n",
       "      <td>6.47</td>\n",
       "      <td>6.72</td>\n",
       "    </tr>\n",
       "  </tbody>\n",
       "</table>\n",
       "</div>"
      ],
      "text/plain": [
       "        1     2     3     4     5\n",
       "P     6.5  5.19  4.23  3.59  3.15\n",
       "nDCG  6.5  6.21  6.25  6.47  6.72"
      ]
     },
     "metadata": {},
     "output_type": "display_data"
    },
    {
     "name": "stdout",
     "output_type": "stream",
     "text": [
      "Recall@100: 17.15\n",
      "starting epoch 6 at iteration 3954\n"
     ]
    },
    {
     "data": {
      "application/vnd.jupyter.widget-view+json": {
       "model_id": "43594c9e222d41b3ae823514ad227697",
       "version_major": 2,
       "version_minor": 0
      },
      "text/plain": [
       "  0%|          | 0/264 [00:00<?, ?it/s]"
      ]
     },
     "metadata": {},
     "output_type": "display_data"
    },
    {
     "name": "stdout",
     "output_type": "stream",
     "text": [
      "Total time, time per point : 9.95s, 0.0738 ms/pt\n"
     ]
    },
    {
     "data": {
      "text/html": [
       "<div>\n",
       "<style scoped>\n",
       "    .dataframe tbody tr th:only-of-type {\n",
       "        vertical-align: middle;\n",
       "    }\n",
       "\n",
       "    .dataframe tbody tr th {\n",
       "        vertical-align: top;\n",
       "    }\n",
       "\n",
       "    .dataframe thead th {\n",
       "        text-align: right;\n",
       "    }\n",
       "</style>\n",
       "<table border=\"1\" class=\"dataframe\">\n",
       "  <thead>\n",
       "    <tr style=\"text-align: right;\">\n",
       "      <th></th>\n",
       "      <th>1</th>\n",
       "      <th>2</th>\n",
       "      <th>3</th>\n",
       "      <th>4</th>\n",
       "      <th>5</th>\n",
       "    </tr>\n",
       "  </thead>\n",
       "  <tbody>\n",
       "    <tr>\n",
       "      <th>P</th>\n",
       "      <td>7.14</td>\n",
       "      <td>5.63</td>\n",
       "      <td>4.73</td>\n",
       "      <td>4.03</td>\n",
       "      <td>3.55</td>\n",
       "    </tr>\n",
       "    <tr>\n",
       "      <th>nDCG</th>\n",
       "      <td>7.14</td>\n",
       "      <td>6.79</td>\n",
       "      <td>6.95</td>\n",
       "      <td>7.20</td>\n",
       "      <td>7.48</td>\n",
       "    </tr>\n",
       "  </tbody>\n",
       "</table>\n",
       "</div>"
      ],
      "text/plain": [
       "         1     2     3     4     5\n",
       "P     7.14  5.63  4.73  4.03  3.55\n",
       "nDCG  7.14  6.79  6.95  7.20  7.48"
      ]
     },
     "metadata": {},
     "output_type": "display_data"
    },
    {
     "name": "stdout",
     "output_type": "stream",
     "text": [
      "Recall@100: 20.03\n",
      "starting epoch 7 at iteration 4613\n"
     ]
    },
    {
     "data": {
      "application/vnd.jupyter.widget-view+json": {
       "model_id": "aef35a90df7148e19d6ae4892cab3485",
       "version_major": 2,
       "version_minor": 0
      },
      "text/plain": [
       "  0%|          | 0/264 [00:00<?, ?it/s]"
      ]
     },
     "metadata": {},
     "output_type": "display_data"
    },
    {
     "name": "stdout",
     "output_type": "stream",
     "text": [
      "Total time, time per point : 9.93s, 0.0736 ms/pt\n"
     ]
    },
    {
     "data": {
      "text/html": [
       "<div>\n",
       "<style scoped>\n",
       "    .dataframe tbody tr th:only-of-type {\n",
       "        vertical-align: middle;\n",
       "    }\n",
       "\n",
       "    .dataframe tbody tr th {\n",
       "        vertical-align: top;\n",
       "    }\n",
       "\n",
       "    .dataframe thead th {\n",
       "        text-align: right;\n",
       "    }\n",
       "</style>\n",
       "<table border=\"1\" class=\"dataframe\">\n",
       "  <thead>\n",
       "    <tr style=\"text-align: right;\">\n",
       "      <th></th>\n",
       "      <th>1</th>\n",
       "      <th>2</th>\n",
       "      <th>3</th>\n",
       "      <th>4</th>\n",
       "      <th>5</th>\n",
       "    </tr>\n",
       "  </thead>\n",
       "  <tbody>\n",
       "    <tr>\n",
       "      <th>P</th>\n",
       "      <td>8.47</td>\n",
       "      <td>6.69</td>\n",
       "      <td>5.58</td>\n",
       "      <td>4.78</td>\n",
       "      <td>4.21</td>\n",
       "    </tr>\n",
       "    <tr>\n",
       "      <th>nDCG</th>\n",
       "      <td>8.47</td>\n",
       "      <td>8.07</td>\n",
       "      <td>8.25</td>\n",
       "      <td>8.59</td>\n",
       "      <td>8.93</td>\n",
       "    </tr>\n",
       "  </tbody>\n",
       "</table>\n",
       "</div>"
      ],
      "text/plain": [
       "         1     2     3     4     5\n",
       "P     8.47  6.69  5.58  4.78  4.21\n",
       "nDCG  8.47  8.07  8.25  8.59  8.93"
      ]
     },
     "metadata": {},
     "output_type": "display_data"
    },
    {
     "name": "stdout",
     "output_type": "stream",
     "text": [
      "Recall@100: 23.17\n",
      "starting epoch 8 at iteration 5272\n"
     ]
    },
    {
     "data": {
      "application/vnd.jupyter.widget-view+json": {
       "model_id": "2537b27f4ec94524ad86fa5ef1c68575",
       "version_major": 2,
       "version_minor": 0
      },
      "text/plain": [
       "  0%|          | 0/264 [00:00<?, ?it/s]"
      ]
     },
     "metadata": {},
     "output_type": "display_data"
    },
    {
     "name": "stdout",
     "output_type": "stream",
     "text": [
      "Total time, time per point : 9.86s, 0.0732 ms/pt\n"
     ]
    },
    {
     "data": {
      "text/html": [
       "<div>\n",
       "<style scoped>\n",
       "    .dataframe tbody tr th:only-of-type {\n",
       "        vertical-align: middle;\n",
       "    }\n",
       "\n",
       "    .dataframe tbody tr th {\n",
       "        vertical-align: top;\n",
       "    }\n",
       "\n",
       "    .dataframe thead th {\n",
       "        text-align: right;\n",
       "    }\n",
       "</style>\n",
       "<table border=\"1\" class=\"dataframe\">\n",
       "  <thead>\n",
       "    <tr style=\"text-align: right;\">\n",
       "      <th></th>\n",
       "      <th>1</th>\n",
       "      <th>2</th>\n",
       "      <th>3</th>\n",
       "      <th>4</th>\n",
       "      <th>5</th>\n",
       "    </tr>\n",
       "  </thead>\n",
       "  <tbody>\n",
       "    <tr>\n",
       "      <th>P</th>\n",
       "      <td>9.35</td>\n",
       "      <td>7.57</td>\n",
       "      <td>6.24</td>\n",
       "      <td>5.37</td>\n",
       "      <td>4.72</td>\n",
       "    </tr>\n",
       "    <tr>\n",
       "      <th>nDCG</th>\n",
       "      <td>9.35</td>\n",
       "      <td>9.11</td>\n",
       "      <td>9.24</td>\n",
       "      <td>9.63</td>\n",
       "      <td>10.00</td>\n",
       "    </tr>\n",
       "  </tbody>\n",
       "</table>\n",
       "</div>"
      ],
      "text/plain": [
       "         1     2     3     4      5\n",
       "P     9.35  7.57  6.24  5.37   4.72\n",
       "nDCG  9.35  9.11  9.24  9.63  10.00"
      ]
     },
     "metadata": {},
     "output_type": "display_data"
    },
    {
     "name": "stdout",
     "output_type": "stream",
     "text": [
      "Recall@100: 25.96\n",
      "starting epoch 9 at iteration 5931\n"
     ]
    },
    {
     "data": {
      "application/vnd.jupyter.widget-view+json": {
       "model_id": "faea1cc3123c43bdbadcede85707e4cf",
       "version_major": 2,
       "version_minor": 0
      },
      "text/plain": [
       "  0%|          | 0/264 [00:00<?, ?it/s]"
      ]
     },
     "metadata": {},
     "output_type": "display_data"
    },
    {
     "name": "stdout",
     "output_type": "stream",
     "text": [
      "Total time, time per point : 9.83s, 0.0729 ms/pt\n"
     ]
    },
    {
     "data": {
      "text/html": [
       "<div>\n",
       "<style scoped>\n",
       "    .dataframe tbody tr th:only-of-type {\n",
       "        vertical-align: middle;\n",
       "    }\n",
       "\n",
       "    .dataframe tbody tr th {\n",
       "        vertical-align: top;\n",
       "    }\n",
       "\n",
       "    .dataframe thead th {\n",
       "        text-align: right;\n",
       "    }\n",
       "</style>\n",
       "<table border=\"1\" class=\"dataframe\">\n",
       "  <thead>\n",
       "    <tr style=\"text-align: right;\">\n",
       "      <th></th>\n",
       "      <th>1</th>\n",
       "      <th>2</th>\n",
       "      <th>3</th>\n",
       "      <th>4</th>\n",
       "      <th>5</th>\n",
       "    </tr>\n",
       "  </thead>\n",
       "  <tbody>\n",
       "    <tr>\n",
       "      <th>P</th>\n",
       "      <td>10.54</td>\n",
       "      <td>8.40</td>\n",
       "      <td>7.02</td>\n",
       "      <td>6.00</td>\n",
       "      <td>5.28</td>\n",
       "    </tr>\n",
       "    <tr>\n",
       "      <th>nDCG</th>\n",
       "      <td>10.54</td>\n",
       "      <td>10.21</td>\n",
       "      <td>10.47</td>\n",
       "      <td>10.87</td>\n",
       "      <td>11.28</td>\n",
       "    </tr>\n",
       "  </tbody>\n",
       "</table>\n",
       "</div>"
      ],
      "text/plain": [
       "          1      2      3      4      5\n",
       "P     10.54   8.40   7.02   6.00   5.28\n",
       "nDCG  10.54  10.21  10.47  10.87  11.28"
      ]
     },
     "metadata": {},
     "output_type": "display_data"
    },
    {
     "name": "stdout",
     "output_type": "stream",
     "text": [
      "Recall@100: 28.57\n",
      "starting epoch 10 at iteration 6590\n"
     ]
    },
    {
     "data": {
      "application/vnd.jupyter.widget-view+json": {
       "model_id": "05a985777ec34ec3b96e6c20073af490",
       "version_major": 2,
       "version_minor": 0
      },
      "text/plain": [
       "  0%|          | 0/264 [00:00<?, ?it/s]"
      ]
     },
     "metadata": {},
     "output_type": "display_data"
    },
    {
     "name": "stdout",
     "output_type": "stream",
     "text": [
      "Total time, time per point : 9.83s, 0.0729 ms/pt\n"
     ]
    },
    {
     "data": {
      "text/html": [
       "<div>\n",
       "<style scoped>\n",
       "    .dataframe tbody tr th:only-of-type {\n",
       "        vertical-align: middle;\n",
       "    }\n",
       "\n",
       "    .dataframe tbody tr th {\n",
       "        vertical-align: top;\n",
       "    }\n",
       "\n",
       "    .dataframe thead th {\n",
       "        text-align: right;\n",
       "    }\n",
       "</style>\n",
       "<table border=\"1\" class=\"dataframe\">\n",
       "  <thead>\n",
       "    <tr style=\"text-align: right;\">\n",
       "      <th></th>\n",
       "      <th>1</th>\n",
       "      <th>2</th>\n",
       "      <th>3</th>\n",
       "      <th>4</th>\n",
       "      <th>5</th>\n",
       "    </tr>\n",
       "  </thead>\n",
       "  <tbody>\n",
       "    <tr>\n",
       "      <th>P</th>\n",
       "      <td>11.37</td>\n",
       "      <td>8.89</td>\n",
       "      <td>7.42</td>\n",
       "      <td>6.35</td>\n",
       "      <td>5.58</td>\n",
       "    </tr>\n",
       "    <tr>\n",
       "      <th>nDCG</th>\n",
       "      <td>11.37</td>\n",
       "      <td>10.87</td>\n",
       "      <td>11.12</td>\n",
       "      <td>11.54</td>\n",
       "      <td>11.97</td>\n",
       "    </tr>\n",
       "  </tbody>\n",
       "</table>\n",
       "</div>"
      ],
      "text/plain": [
       "          1      2      3      4      5\n",
       "P     11.37   8.89   7.42   6.35   5.58\n",
       "nDCG  11.37  10.87  11.12  11.54  11.97"
      ]
     },
     "metadata": {},
     "output_type": "display_data"
    },
    {
     "name": "stdout",
     "output_type": "stream",
     "text": [
      "Recall@100: 30.48\n",
      "starting epoch 11 at iteration 7249\n"
     ]
    },
    {
     "data": {
      "application/vnd.jupyter.widget-view+json": {
       "model_id": "fc97978dd4e14ba0be8799c1ca9c98fd",
       "version_major": 2,
       "version_minor": 0
      },
      "text/plain": [
       "  0%|          | 0/264 [00:00<?, ?it/s]"
      ]
     },
     "metadata": {},
     "output_type": "display_data"
    },
    {
     "name": "stdout",
     "output_type": "stream",
     "text": [
      "Total time, time per point : 9.78s, 0.0725 ms/pt\n"
     ]
    },
    {
     "data": {
      "text/html": [
       "<div>\n",
       "<style scoped>\n",
       "    .dataframe tbody tr th:only-of-type {\n",
       "        vertical-align: middle;\n",
       "    }\n",
       "\n",
       "    .dataframe tbody tr th {\n",
       "        vertical-align: top;\n",
       "    }\n",
       "\n",
       "    .dataframe thead th {\n",
       "        text-align: right;\n",
       "    }\n",
       "</style>\n",
       "<table border=\"1\" class=\"dataframe\">\n",
       "  <thead>\n",
       "    <tr style=\"text-align: right;\">\n",
       "      <th></th>\n",
       "      <th>1</th>\n",
       "      <th>2</th>\n",
       "      <th>3</th>\n",
       "      <th>4</th>\n",
       "      <th>5</th>\n",
       "    </tr>\n",
       "  </thead>\n",
       "  <tbody>\n",
       "    <tr>\n",
       "      <th>P</th>\n",
       "      <td>11.91</td>\n",
       "      <td>9.45</td>\n",
       "      <td>7.87</td>\n",
       "      <td>6.74</td>\n",
       "      <td>5.94</td>\n",
       "    </tr>\n",
       "    <tr>\n",
       "      <th>nDCG</th>\n",
       "      <td>11.91</td>\n",
       "      <td>11.50</td>\n",
       "      <td>11.76</td>\n",
       "      <td>12.21</td>\n",
       "      <td>12.68</td>\n",
       "    </tr>\n",
       "  </tbody>\n",
       "</table>\n",
       "</div>"
      ],
      "text/plain": [
       "          1      2      3      4      5\n",
       "P     11.91   9.45   7.87   6.74   5.94\n",
       "nDCG  11.91  11.50  11.76  12.21  12.68"
      ]
     },
     "metadata": {},
     "output_type": "display_data"
    },
    {
     "name": "stdout",
     "output_type": "stream",
     "text": [
      "Recall@100: 32.06\n",
      "starting epoch 12 at iteration 7908\n"
     ]
    }
   ],
   "source": [
    "for epoch in range(max_epoch):\n",
    "    print (\"starting epoch %d at iteration %d\"%(epoch,iteration))\n",
    "    for _,(x,y) in enumerate(train_dataloader):\n",
    "        positives,negatives = model(x,y)\n",
    "        loss = -positives\n",
    "        exit()\n",
    "        if (iteration %100  == 0):\n",
    "            writer.add_scalar('train/positives',positives,iteration)\n",
    "            writer.add_scalar('train/negatives',negatives,iteration)\n",
    "        \n",
    "        optimizer.zero_grad()\n",
    "        loss.backward()\n",
    "        optimizer.step()\n",
    "        lr_scheduler.step()\n",
    "        iteration += 1\n",
    "    if(epoch %1 == 0):\n",
    "        positives,negatives,count = 0,0,0\n",
    "        with torch.no_grad():\n",
    "            for _,(x,y) in enumerate(test_dataloader):\n",
    "                positives_,negatives_ = model(x,y)\n",
    "                positives += positives_\n",
    "                negatives += negatives_\n",
    "                count += 1\n",
    "        score = evaluator.__call__(model)\n",
    "        writer.add_scalar('val/P@5',score,iteration)\n",
    "        writer.add_scalar('val/positives',positives/count,iteration)\n",
    "        writer.add_scalar('val/negatives',negatives/count,iteration)\n",
    "        if (score < best_score):\n",
    "            best_score = score\n",
    "            torch.save(model.state_dict(),os.path.join(results_dir,'checkpoint.pt'))\n",
    "            print ('saved checkpoint for epoch %d'%epoch)"
   ]
  }
 ],
 "metadata": {
  "kernelspec": {
   "display_name": "Python 3",
   "language": "python",
   "name": "python3"
  },
  "language_info": {
   "codemirror_mode": {
    "name": "ipython",
    "version": 3
   },
   "file_extension": ".py",
   "mimetype": "text/x-python",
   "name": "python",
   "nbconvert_exporter": "python",
   "pygments_lexer": "ipython3",
   "version": "3.8.8"
  }
 },
 "nbformat": 4,
 "nbformat_minor": 5
}
